{
 "cells": [
  {
   "cell_type": "code",
   "execution_count": 1,
   "id": "4c463ae2-7254-42e5-b32c-bb7652704acc",
   "metadata": {},
   "outputs": [],
   "source": [
    "# imports\n",
    "import pandas as pd\n",
    "from datetime import datetime, timedelta"
   ]
  },
  {
   "cell_type": "code",
   "execution_count": 2,
   "id": "5caf632d-d52d-4d82-bb23-a5db22fcec6c",
   "metadata": {},
   "outputs": [],
   "source": [
    "# Start date\n",
    "start_date = datetime(2020, 1, 1)\n",
    "# End date\n",
    "end_date = datetime(2022, 12, 31)\n",
    "# create the list where the dates will be saved\n",
    "date_list = []\n",
    "# Iterate through the date range\n",
    "current_date = start_date\n",
    "while current_date <= end_date:\n",
    "    # Format the date as YYYYMMDD\n",
    "    formatted_date = current_date.strftime(\"%Y%m%d\")\n",
    "    date_list.append(formatted_date)\n",
    "    current_date += timedelta(days=1)\n",
    "    \n",
    "dataframes = []\n",
    "string1 = 'https://docs.misoenergy.org/marketreports/'\n",
    "string2 = '_asm_expost_damcp.csv'"
   ]
  },
  {
   "cell_type": "code",
   "execution_count": 3,
   "id": "9cd4614b-58df-4744-a2fe-15b5341f555f",
   "metadata": {
    "tags": []
   },
   "outputs": [],
   "source": [
    "links = [f\"{string1}{x}{string2}\" for x in date_list]"
   ]
  },
  {
   "cell_type": "code",
   "execution_count": 4,
   "id": "85c4a65f-ef75-4762-95d4-f48208eaab97",
   "metadata": {
    "tags": []
   },
   "outputs": [],
   "source": [
    "for link in links:\n",
    "    df = pd.read_csv(link, sep='delimiter', header=None, engine='python')\n",
    "    df = df.head(10)\n",
    "    dataframes.append(df)"
   ]
  },
  {
   "cell_type": "code",
   "execution_count": 5,
   "id": "f0f56e5f-d9af-427c-8325-5668d3d1eeb2",
   "metadata": {
    "tags": []
   },
   "outputs": [
    {
     "data": {
      "text/html": [
       "<div>\n",
       "<style scoped>\n",
       "    .dataframe tbody tr th:only-of-type {\n",
       "        vertical-align: middle;\n",
       "    }\n",
       "\n",
       "    .dataframe tbody tr th {\n",
       "        vertical-align: top;\n",
       "    }\n",
       "\n",
       "    .dataframe thead th {\n",
       "        text-align: right;\n",
       "    }\n",
       "</style>\n",
       "<table border=\"1\" class=\"dataframe\">\n",
       "  <thead>\n",
       "    <tr style=\"text-align: right;\">\n",
       "      <th></th>\n",
       "      <th>0</th>\n",
       "    </tr>\n",
       "  </thead>\n",
       "  <tbody>\n",
       "    <tr>\n",
       "      <th>0</th>\n",
       "      <td>Dayahead Market MCPs.</td>\n",
       "    </tr>\n",
       "    <tr>\n",
       "      <th>1</th>\n",
       "      <td>01/01/2020,,All Hours-Ending are Eastern Stand...</td>\n",
       "    </tr>\n",
       "    <tr>\n",
       "      <th>2</th>\n",
       "      <td>,,MCP Type, HE 1,HE 2,HE 3,HE 4,HE 5,HE 6,HE 7...</td>\n",
       "    </tr>\n",
       "    <tr>\n",
       "      <th>3</th>\n",
       "      <td>MISO Wide,-,DEMREGMCP,6.78,5.15,6.04,5.31,5.9,...</td>\n",
       "    </tr>\n",
       "    <tr>\n",
       "      <th>4</th>\n",
       "      <td>MISO Wide,-,GENREGMCP,6.78,5.15,6.04,5.31,5.9,...</td>\n",
       "    </tr>\n",
       "    <tr>\n",
       "      <th>...</th>\n",
       "      <td>...</td>\n",
       "    </tr>\n",
       "    <tr>\n",
       "      <th>5</th>\n",
       "      <td>MISO Wide,-,DEMSPINMCP,1.46,1.02,1,1,1,1,1.02,...</td>\n",
       "    </tr>\n",
       "    <tr>\n",
       "      <th>6</th>\n",
       "      <td>MISO Wide,-,GENSPINMCP,1.46,1.02,1,1,1,1,1.02,...</td>\n",
       "    </tr>\n",
       "    <tr>\n",
       "      <th>7</th>\n",
       "      <td>MISO Wide,-,DEMSUPPMCP,.2,.2,.2,.2,.2,.2,.2,.2...</td>\n",
       "    </tr>\n",
       "    <tr>\n",
       "      <th>8</th>\n",
       "      <td>MISO Wide,-,GENSUPPMCP,.2,.2,.2,.2,.2,.2,.2,.2...</td>\n",
       "    </tr>\n",
       "    <tr>\n",
       "      <th>9</th>\n",
       "      <td>MISO Wide,-,SERREGMCP,10.87,8.19,8.78,8.88,10....</td>\n",
       "    </tr>\n",
       "  </tbody>\n",
       "</table>\n",
       "<p>10960 rows × 1 columns</p>\n",
       "</div>"
      ],
      "text/plain": [
       "                                                    0\n",
       "0                               Dayahead Market MCPs.\n",
       "1   01/01/2020,,All Hours-Ending are Eastern Stand...\n",
       "2   ,,MCP Type, HE 1,HE 2,HE 3,HE 4,HE 5,HE 6,HE 7...\n",
       "3   MISO Wide,-,DEMREGMCP,6.78,5.15,6.04,5.31,5.9,...\n",
       "4   MISO Wide,-,GENREGMCP,6.78,5.15,6.04,5.31,5.9,...\n",
       "..                                                ...\n",
       "5   MISO Wide,-,DEMSPINMCP,1.46,1.02,1,1,1,1,1.02,...\n",
       "6   MISO Wide,-,GENSPINMCP,1.46,1.02,1,1,1,1,1.02,...\n",
       "7   MISO Wide,-,DEMSUPPMCP,.2,.2,.2,.2,.2,.2,.2,.2...\n",
       "8   MISO Wide,-,GENSUPPMCP,.2,.2,.2,.2,.2,.2,.2,.2...\n",
       "9   MISO Wide,-,SERREGMCP,10.87,8.19,8.78,8.88,10....\n",
       "\n",
       "[10960 rows x 1 columns]"
      ]
     },
     "execution_count": 5,
     "metadata": {},
     "output_type": "execute_result"
    }
   ],
   "source": [
    "result = pd.concat(dataframes)\n",
    "result.to_csv('MisoData.csv')\n",
    "result"
   ]
  }
 ],
 "metadata": {
  "kernelspec": {
   "display_name": "Python 3 (ipykernel)",
   "language": "python",
   "name": "python3"
  },
  "language_info": {
   "codemirror_mode": {
    "name": "ipython",
    "version": 3
   },
   "file_extension": ".py",
   "mimetype": "text/x-python",
   "name": "python",
   "nbconvert_exporter": "python",
   "pygments_lexer": "ipython3",
   "version": "3.9.13"
  }
 },
 "nbformat": 4,
 "nbformat_minor": 5
}
